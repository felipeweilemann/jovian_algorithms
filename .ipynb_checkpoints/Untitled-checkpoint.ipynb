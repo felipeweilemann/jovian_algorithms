{
 "cells": [
  {
   "cell_type": "code",
   "execution_count": 7,
   "id": "adeae10f",
   "metadata": {},
   "outputs": [],
   "source": [
    "import math"
   ]
  },
  {
   "cell_type": "code",
   "execution_count": 8,
   "id": "0becd90f",
   "metadata": {},
   "outputs": [
    {
     "data": {
      "text/plain": [
       "7.0"
      ]
     },
     "execution_count": 8,
     "metadata": {},
     "output_type": "execute_result"
    }
   ],
   "source": [
    "math.sqrt(49)"
   ]
  },
  {
   "cell_type": "code",
   "execution_count": null,
   "id": "b83957a9",
   "metadata": {},
   "outputs": [],
   "source": [
    "A = [13,11,10,7,4,3,1,0]"
   ]
  },
  {
   "cell_type": "code",
   "execution_count": null,
   "id": "fc1acf7e",
   "metadata": {},
   "outputs": [],
   "source": [
    "def findValue(myList, value):\n",
    "    lenList = len(myList)\n",
    "#     print(myList)\n",
    "    mid = math.floor(lenList/2)\n",
    "#     print(mid)\n",
    "    solution = -1\n",
    "    if mid == 0:\n",
    "        if myList[mid] == value:\n",
    "            solution = mid\n",
    "    elif myList[mid] == value:\n",
    "        solution = mid\n",
    "    elif myList[mid] < value:\n",
    "        newList = myList[:mid]\n",
    "        solution = findValue(newList, value)\n",
    "    else:\n",
    "        newList = myList[mid:]\n",
    "        solution = mid + findValue(newList, value)\n",
    "#     print(solution)\n",
    "    return solution"
   ]
  },
  {
   "cell_type": "code",
   "execution_count": 247,
   "id": "748d0cb2",
   "metadata": {},
   "outputs": [
    {
     "data": {
      "text/plain": [
       "3"
      ]
     },
     "execution_count": 247,
     "metadata": {},
     "output_type": "execute_result"
    }
   ],
   "source": [
    "findValue(A,7)"
   ]
  },
  {
   "cell_type": "markdown",
   "id": "857f71fa",
   "metadata": {},
   "source": [
    "### math.floor(len(A)/2)"
   ]
  },
  {
   "cell_type": "code",
   "execution_count": 65,
   "id": "d1ece03d",
   "metadata": {},
   "outputs": [
    {
     "data": {
      "text/plain": [
       "[7, 4, 3, 1, 0]"
      ]
     },
     "execution_count": 65,
     "metadata": {},
     "output_type": "execute_result"
    }
   ],
   "source": [
    "A[4:]"
   ]
  },
  {
   "cell_type": "code",
   "execution_count": 31,
   "id": "c5f7fb6b",
   "metadata": {},
   "outputs": [
    {
     "data": {
      "text/plain": [
       "4.5"
      ]
     },
     "execution_count": 31,
     "metadata": {},
     "output_type": "execute_result"
    }
   ],
   "source": [
    "len(A)/2"
   ]
  },
  {
   "cell_type": "code",
   "execution_count": 34,
   "id": "7de26162",
   "metadata": {},
   "outputs": [
    {
     "data": {
      "text/plain": [
       "False"
      ]
     },
     "execution_count": 34,
     "metadata": {},
     "output_type": "execute_result"
    }
   ],
   "source": [
    "A[0] != 13"
   ]
  },
  {
   "cell_type": "code",
   "execution_count": null,
   "id": "8e8b2da3",
   "metadata": {},
   "outputs": [],
   "source": []
  }
 ],
 "metadata": {
  "kernelspec": {
   "display_name": "Python 3 (ipykernel)",
   "language": "python",
   "name": "python3"
  },
  "language_info": {
   "codemirror_mode": {
    "name": "ipython",
    "version": 3
   },
   "file_extension": ".py",
   "mimetype": "text/x-python",
   "name": "python",
   "nbconvert_exporter": "python",
   "pygments_lexer": "ipython3",
   "version": "3.11.5"
  }
 },
 "nbformat": 4,
 "nbformat_minor": 5
}
