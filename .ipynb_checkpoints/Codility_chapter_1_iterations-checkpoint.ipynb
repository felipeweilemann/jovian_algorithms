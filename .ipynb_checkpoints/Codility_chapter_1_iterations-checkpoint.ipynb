{
 "cells": [
  {
   "cell_type": "markdown",
   "id": "2fcfd7e1",
   "metadata": {},
   "source": [
    "# Codility - chapter 1 - iterations"
   ]
  },
  {
   "cell_type": "markdown",
   "id": "d5a02518",
   "metadata": {},
   "source": [
    "## For loops"
   ]
  },
  {
   "cell_type": "code",
   "execution_count": 11,
   "id": "5fceb355",
   "metadata": {},
   "outputs": [
    {
     "name": "stdout",
     "output_type": "stream",
     "text": [
      "0\n",
      "1\n",
      "2\n",
      "3\n",
      "4\n",
      "5\n",
      "6\n",
      "7\n",
      "8\n",
      "9\n"
     ]
    }
   ],
   "source": [
    "for x in range(0,10):\n",
    "    print(x)"
   ]
  },
  {
   "cell_type": "code",
   "execution_count": 40,
   "id": "864323ea",
   "metadata": {},
   "outputs": [],
   "source": [
    "def factorial(n : int) -> int:\n",
    "    result = 1\n",
    "    for x in range(1, n + 1):\n",
    "        result = result * x\n",
    "    return result"
   ]
  },
  {
   "cell_type": "code",
   "execution_count": 46,
   "id": "8b9cc9a9",
   "metadata": {},
   "outputs": [
    {
     "name": "stdout",
     "output_type": "stream",
     "text": [
      "* *\n"
     ]
    }
   ],
   "source": [
    "print(*['*','*'])"
   ]
  },
  {
   "cell_type": "code",
   "execution_count": 47,
   "id": "ebfa0a7d",
   "metadata": {},
   "outputs": [
    {
     "data": {
      "text/plain": [
       "[1, 2]"
      ]
     },
     "execution_count": 47,
     "metadata": {},
     "output_type": "execute_result"
    }
   ],
   "source": [
    "[1] + [2]"
   ]
  },
  {
   "cell_type": "code",
   "execution_count": 50,
   "id": "1f1d7007",
   "metadata": {},
   "outputs": [],
   "source": [
    "def printTriangle(n : int):\n",
    "    listOfStars = []\n",
    "    for x in range(0, n):\n",
    "        listOfStars += ['* ']\n",
    "        print(*listOfStars)"
   ]
  },
  {
   "cell_type": "code",
   "execution_count": 51,
   "id": "dee3b3c3",
   "metadata": {},
   "outputs": [
    {
     "name": "stdout",
     "output_type": "stream",
     "text": [
      "* \n",
      "*  * \n",
      "*  *  * \n"
     ]
    }
   ],
   "source": [
    "printTriangle(3)"
   ]
  },
  {
   "cell_type": "code",
   "execution_count": 69,
   "id": "90d63be2",
   "metadata": {},
   "outputs": [],
   "source": [
    "def printInvertedTriangle(n : int):\n",
    "    listOfSpaces = []\n",
    "    for x in range(n, 0, -2):\n",
    "        listOfStars = []\n",
    "        for z in range(0, x):\n",
    "            listOfStars += ['*']\n",
    "            row = listOfSpaces + listOfStars + listOfSpaces\n",
    "        listOfSpaces += [' ']\n",
    "        print(*row)"
   ]
  },
  {
   "cell_type": "code",
   "execution_count": 73,
   "id": "9ab320d8",
   "metadata": {},
   "outputs": [
    {
     "name": "stdout",
     "output_type": "stream",
     "text": [
      "* * * * * *\n",
      "  * * * *  \n",
      "    * *    \n"
     ]
    }
   ],
   "source": [
    "printInvertedTriangle(6)"
   ]
  },
  {
   "cell_type": "markdown",
   "id": "90cb1a1f",
   "metadata": {},
   "source": [
    "## While loops"
   ]
  },
  {
   "cell_type": "code",
   "execution_count": 89,
   "id": "df765564",
   "metadata": {},
   "outputs": [],
   "source": [
    "def countDigits(n : int) -> int:\n",
    "    value = n\n",
    "    digits = 0\n",
    "    while value > 0:\n",
    "        value = value // 10\n",
    "        digits += 1\n",
    "    return digits"
   ]
  },
  {
   "cell_type": "code",
   "execution_count": 90,
   "id": "255fc883",
   "metadata": {},
   "outputs": [
    {
     "data": {
      "text/plain": [
       "0"
      ]
     },
     "execution_count": 90,
     "metadata": {},
     "output_type": "execute_result"
    }
   ],
   "source": [
    "1 // 10"
   ]
  },
  {
   "cell_type": "code",
   "execution_count": 92,
   "id": "6b802c44",
   "metadata": {},
   "outputs": [
    {
     "data": {
      "text/plain": [
       "1"
      ]
     },
     "execution_count": 92,
     "metadata": {},
     "output_type": "execute_result"
    }
   ],
   "source": [
    "countDigits(4)"
   ]
  },
  {
   "cell_type": "code",
   "execution_count": 103,
   "id": "4d42df9d",
   "metadata": {},
   "outputs": [],
   "source": [
    "a = []"
   ]
  },
  {
   "cell_type": "code",
   "execution_count": 104,
   "id": "86da6a36",
   "metadata": {},
   "outputs": [
    {
     "ename": "TypeError",
     "evalue": "can only concatenate list (not \"int\") to list",
     "output_type": "error",
     "traceback": [
      "\u001b[0;31m---------------------------------------------------------------------------\u001b[0m",
      "\u001b[0;31mTypeError\u001b[0m                                 Traceback (most recent call last)",
      "Cell \u001b[0;32mIn[104], line 1\u001b[0m\n\u001b[0;32m----> 1\u001b[0m a \u001b[38;5;241m=\u001b[39m a \u001b[38;5;241m+\u001b[39m \u001b[38;5;241m1\u001b[39m\n",
      "\u001b[0;31mTypeError\u001b[0m: can only concatenate list (not \"int\") to list"
     ]
    }
   ],
   "source": [
    "a = a + 1"
   ]
  },
  {
   "cell_type": "code",
   "execution_count": 106,
   "id": "7e30c9fa",
   "metadata": {},
   "outputs": [],
   "source": [
    "def generateFibonacci(n : int) -> list[int]:\n",
    "    a = 0\n",
    "    b = 1\n",
    "    result = []\n",
    "    while a <= n:\n",
    "        result = result + [a]\n",
    "        c = a + b\n",
    "        a = b\n",
    "        b = c\n",
    "    return result"
   ]
  },
  {
   "cell_type": "code",
   "execution_count": 108,
   "id": "9e7513d4",
   "metadata": {},
   "outputs": [
    {
     "data": {
      "text/plain": [
       "[0, 1, 1, 2, 3, 5, 8, 13]"
      ]
     },
     "execution_count": 108,
     "metadata": {},
     "output_type": "execute_result"
    }
   ],
   "source": [
    "generateFibonacci(13)"
   ]
  },
  {
   "cell_type": "code",
   "execution_count": 114,
   "id": "8ebdf9d9",
   "metadata": {},
   "outputs": [
    {
     "name": "stdout",
     "output_type": "stream",
     "text": [
      "Monday\n",
      "Tuesday\n",
      "Wednesday\n",
      "Thursday\n",
      "Friday\n",
      "Saturday\n",
      "Sunday\n"
     ]
    }
   ],
   "source": [
    "days = ['Monday', 'Tuesday', 'Wednesday', 'Thursday', 'Friday', 'Saturday', 'Sunday']\n",
    "for day in days:\n",
    "    print(day)"
   ]
  },
  {
   "cell_type": "code",
   "execution_count": null,
   "id": "d31520ac",
   "metadata": {},
   "outputs": [],
   "source": [
    "days = {’mon’: ’Monday’, ’tue’: ’Tuesday’, ’wed’: ’Wednesday’,’thu’: ’Thursday’, ’fri’: ’Friday’, ’sat’: ’Saturday’,’sun’: ’Sunday’}"
   ]
  },
  {
   "cell_type": "code",
   "execution_count": 115,
   "id": "53c20e2d",
   "metadata": {},
   "outputs": [
    {
     "name": "stdout",
     "output_type": "stream",
     "text": [
      "Monday\n",
      "Tuesday\n",
      "Wednesday\n",
      "Thursday\n",
      "Friday\n",
      "Saturday\n",
      "Sunday\n"
     ]
    }
   ],
   "source": [
    "for day in days:\n",
    "    print(day)"
   ]
  },
  {
   "cell_type": "code",
   "execution_count": 161,
   "id": "84a7859a",
   "metadata": {},
   "outputs": [
    {
     "data": {
      "text/plain": [
       "'1011010'"
      ]
     },
     "execution_count": 161,
     "metadata": {},
     "output_type": "execute_result"
    }
   ],
   "source": [
    "bin(90)[2:]"
   ]
  },
  {
   "cell_type": "code",
   "execution_count": 159,
   "id": "044c41df",
   "metadata": {},
   "outputs": [],
   "source": [
    "def binaryGap(n : int) -> int:\n",
    "    binary = bin(n)[2:]\n",
    "    gap = 0\n",
    "    currentGap = -1\n",
    "    for value in binary:\n",
    "        print('value ', value, 'currentGap ', currentGap)\n",
    "        if value == '1':            \n",
    "            if currentGap >= gap:\n",
    "                gap = currentGap\n",
    "            currentGap = 0\n",
    "        elif value == '0' and currentGap >= 0:\n",
    "            currentGap = currentGap + 1\n",
    "    return gap"
   ]
  },
  {
   "cell_type": "code",
   "execution_count": 160,
   "id": "079dfc6c",
   "metadata": {},
   "outputs": [
    {
     "name": "stdout",
     "output_type": "stream",
     "text": [
      "value  1 currentGap  -1\n",
      "value  0 currentGap  0\n",
      "value  1 currentGap  1\n",
      "value  0 currentGap  0\n"
     ]
    },
    {
     "data": {
      "text/plain": [
       "1"
      ]
     },
     "execution_count": 160,
     "metadata": {},
     "output_type": "execute_result"
    }
   ],
   "source": [
    "binaryGap(10)"
   ]
  },
  {
   "cell_type": "code",
   "execution_count": null,
   "id": "cfedc5c2",
   "metadata": {},
   "outputs": [],
   "source": []
  }
 ],
 "metadata": {
  "kernelspec": {
   "display_name": "Python 3 (ipykernel)",
   "language": "python",
   "name": "python3"
  },
  "language_info": {
   "codemirror_mode": {
    "name": "ipython",
    "version": 3
   },
   "file_extension": ".py",
   "mimetype": "text/x-python",
   "name": "python",
   "nbconvert_exporter": "python",
   "pygments_lexer": "ipython3",
   "version": "3.11.5"
  }
 },
 "nbformat": 4,
 "nbformat_minor": 5
}
