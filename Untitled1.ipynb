{
 "cells": [
  {
   "cell_type": "markdown",
   "id": "8108ae14",
   "metadata": {},
   "source": [
    "# Codility"
   ]
  },
  {
   "cell_type": "markdown",
   "id": "edc3f57d",
   "metadata": {},
   "source": [
    "## Chapter 2 Arrays"
   ]
  },
  {
   "cell_type": "markdown",
   "id": "6061b038",
   "metadata": {},
   "source": [
    "[Codility - Chapter 2 Arrays](https://codility.com/media/train/0-Arrays.pdf)"
   ]
  },
  {
   "cell_type": "markdown",
   "id": "92f1effe",
   "metadata": {},
   "source": [
    "Let’s write a function that counts the number of days with negative air temperature."
   ]
  },
  {
   "cell_type": "code",
   "execution_count": 4,
   "id": "01e07bfc",
   "metadata": {},
   "outputs": [],
   "source": [
    "def count_negative_temperatures(temperatures):\n",
    "    counter = 0\n",
    "    for temperature in temperatures:\n",
    "        if temperature < 0:\n",
    "            counter += 1\n",
    "    return counter"
   ]
  },
  {
   "cell_type": "code",
   "execution_count": 5,
   "id": "c79a7a3c",
   "metadata": {},
   "outputs": [
    {
     "data": {
      "text/plain": [
       "2"
      ]
     },
     "execution_count": 5,
     "metadata": {},
     "output_type": "execute_result"
    }
   ],
   "source": [
    "count_negative_temperatures([-10,-5,2,3,4])"
   ]
  },
  {
   "cell_type": "markdown",
   "id": "32128f66",
   "metadata": {},
   "source": [
    "## Reverse Array\n",
    "Given array A consisting of N integers, return the reversed array"
   ]
  },
  {
   "cell_type": "code",
   "execution_count": 12,
   "id": "8297125e",
   "metadata": {},
   "outputs": [],
   "source": [
    "def reverse_array(nums):\n",
    "    result = []\n",
    "    for index in range(len(nums) - 1, -1, -1):\n",
    "        result += [nums[index]]\n",
    "    return result"
   ]
  },
  {
   "cell_type": "code",
   "execution_count": 21,
   "id": "d1470934",
   "metadata": {},
   "outputs": [],
   "source": [
    "def reverse_array_2(nums):\n",
    "    for I in range(0, len(nums)//2):\n",
    "        K = len(nums) - I - 1\n",
    "        nums[I], nums[K] = nums[K], nums[I]\n",
    "    return nums"
   ]
  },
  {
   "cell_type": "code",
   "execution_count": 22,
   "id": "043fe620",
   "metadata": {},
   "outputs": [
    {
     "data": {
      "text/plain": [
       "[5, 4, 3, 2, 1]"
      ]
     },
     "execution_count": 22,
     "metadata": {},
     "output_type": "execute_result"
    }
   ],
   "source": [
    "reverse_array([1,2,3,4,5])"
   ]
  },
  {
   "cell_type": "code",
   "execution_count": 23,
   "id": "8b96042c",
   "metadata": {},
   "outputs": [
    {
     "data": {
      "text/plain": [
       "[5, 4, 3, 2, 1]"
      ]
     },
     "execution_count": 23,
     "metadata": {},
     "output_type": "execute_result"
    }
   ],
   "source": [
    "reverse_array_2([1,2,3,4,5])"
   ]
  },
  {
   "cell_type": "markdown",
   "id": "691eaa96",
   "metadata": {},
   "source": [
    "## CyclicRotation\n",
    "Rotate an array to the right by a given number of steps."
   ]
  },
  {
   "cell_type": "code",
   "execution_count": 45,
   "id": "cc5c40ba",
   "metadata": {},
   "outputs": [],
   "source": [
    "def cyclic_rotation(A, K):\n",
    "    result = A\n",
    "    if len(A) == 0:\n",
    "        return []\n",
    "    for index in range(0, K):\n",
    "        print(result)\n",
    "        result = [result[-1]] + result[:-1]\n",
    "    return result"
   ]
  },
  {
   "cell_type": "code",
   "execution_count": 46,
   "id": "7d1bc77b",
   "metadata": {},
   "outputs": [
    {
     "name": "stdout",
     "output_type": "stream",
     "text": [
      "[3, 8, 9, 7, 6]\n",
      "[6, 3, 8, 9, 7]\n",
      "[7, 6, 3, 8, 9]\n"
     ]
    },
    {
     "data": {
      "text/plain": [
       "[9, 7, 6, 3, 8]"
      ]
     },
     "execution_count": 46,
     "metadata": {},
     "output_type": "execute_result"
    }
   ],
   "source": [
    "cyclic_rotation([3, 8, 9, 7, 6], 3)"
   ]
  },
  {
   "cell_type": "code",
   "execution_count": 32,
   "id": "35aad067",
   "metadata": {},
   "outputs": [
    {
     "data": {
      "text/plain": [
       "[3, 1, 2]"
      ]
     },
     "execution_count": 32,
     "metadata": {},
     "output_type": "execute_result"
    }
   ],
   "source": [
    "[A[-1]]+A[:-1]"
   ]
  },
  {
   "cell_type": "markdown",
   "id": "3b918b4f",
   "metadata": {},
   "source": [
    "## OddOccurrencesInArray\n",
    "Find value that occurs in odd number of elements."
   ]
  },
  {
   "cell_type": "code",
   "execution_count": 63,
   "id": "85aa23de",
   "metadata": {},
   "outputs": [],
   "source": [
    "def odd_occurrences_in_array(A):\n",
    "    return [z for z in A if (len([x for x in A if x == z]) % 2) != 0][0]"
   ]
  },
  {
   "cell_type": "code",
   "execution_count": 90,
   "id": "a696ad79",
   "metadata": {},
   "outputs": [],
   "source": [
    "def odd_occurrences_in_array_2(A):\n",
    "    index = 0\n",
    "    elems = []\n",
    "    A_copy = A\n",
    "    while len(A_copy) > 1:\n",
    "        index = 1\n",
    "        found_pair = False\n",
    "        while index < len(A_copy):\n",
    "            if A_copy[0] == A_copy[index]:\n",
    "                value = A_copy[0]\n",
    "                A_copy.remove(value)\n",
    "                A_copy.remove(value)\n",
    "                found_pair = True\n",
    "                break\n",
    "            index += 1\n",
    "        if not found_pair:\n",
    "            return A_copy[0]\n",
    "    if len(A_copy) == 1:\n",
    "        return A_copy[0]"
   ]
  },
  {
   "cell_type": "code",
   "execution_count": 122,
   "id": "0cf89408",
   "metadata": {},
   "outputs": [],
   "source": [
    "def odd_occurrences_in_array_3(A):\n",
    "    support_set = set()\n",
    "    \n",
    "    for item in A:\n",
    "        if item in support_set:\n",
    "            support_set.remove(item)\n",
    "        else:\n",
    "            support_set.add(item)\n",
    "\n",
    "    return list(support_set)[0]"
   ]
  },
  {
   "cell_type": "code",
   "execution_count": 123,
   "id": "1ba9b8bd",
   "metadata": {},
   "outputs": [
    {
     "data": {
      "text/plain": [
       "7"
      ]
     },
     "execution_count": 123,
     "metadata": {},
     "output_type": "execute_result"
    }
   ],
   "source": [
    "odd_occurrences_in_array([9, 3, 9, 3, 9, 7, 9])"
   ]
  },
  {
   "cell_type": "code",
   "execution_count": 124,
   "id": "4f671d8e",
   "metadata": {
    "scrolled": true
   },
   "outputs": [
    {
     "data": {
      "text/plain": [
       "7"
      ]
     },
     "execution_count": 124,
     "metadata": {},
     "output_type": "execute_result"
    }
   ],
   "source": [
    "odd_occurrences_in_array_2([9, 3, 9, 3, 9, 7, 9])"
   ]
  },
  {
   "cell_type": "code",
   "execution_count": 125,
   "id": "3f0bdfc1",
   "metadata": {},
   "outputs": [
    {
     "data": {
      "text/plain": [
       "7"
      ]
     },
     "execution_count": 125,
     "metadata": {},
     "output_type": "execute_result"
    }
   ],
   "source": [
    "odd_occurrences_in_array_3([9, 3, 9, 3, 9, 7, 9])"
   ]
  },
  {
   "cell_type": "code",
   "execution_count": 61,
   "id": "d22337b2",
   "metadata": {},
   "outputs": [],
   "source": [
    "A = [9, 3, 9, 3, 9, 7, 9]"
   ]
  },
  {
   "cell_type": "code",
   "execution_count": 49,
   "id": "80401a11",
   "metadata": {},
   "outputs": [
    {
     "data": {
      "text/plain": [
       "[1, 1]"
      ]
     },
     "execution_count": 49,
     "metadata": {},
     "output_type": "execute_result"
    }
   ],
   "source": [
    "[x for x in A if x == 1]"
   ]
  },
  {
   "cell_type": "code",
   "execution_count": 62,
   "id": "1907abe1",
   "metadata": {},
   "outputs": [
    {
     "data": {
      "text/plain": [
       "7"
      ]
     },
     "execution_count": 62,
     "metadata": {},
     "output_type": "execute_result"
    }
   ],
   "source": [
    "[z for z in A if (len([x for x in A if x == z]) % 2) != 0][0]"
   ]
  },
  {
   "cell_type": "code",
   "execution_count": 50,
   "id": "48d4604f",
   "metadata": {},
   "outputs": [
    {
     "data": {
      "text/plain": [
       "0"
      ]
     },
     "execution_count": 50,
     "metadata": {},
     "output_type": "execute_result"
    }
   ],
   "source": [
    "4 % 2"
   ]
  },
  {
   "cell_type": "code",
   "execution_count": 68,
   "id": "39c96a68",
   "metadata": {},
   "outputs": [],
   "source": [
    "A.remove(9)"
   ]
  },
  {
   "cell_type": "code",
   "execution_count": 69,
   "id": "9d74c1b7",
   "metadata": {},
   "outputs": [
    {
     "data": {
      "text/plain": [
       "[3, 9, 3, 9, 7, 9]"
      ]
     },
     "execution_count": 69,
     "metadata": {},
     "output_type": "execute_result"
    }
   ],
   "source": [
    "A"
   ]
  },
  {
   "cell_type": "code",
   "execution_count": 93,
   "id": "2c4fa1df",
   "metadata": {},
   "outputs": [
    {
     "data": {
      "text/plain": [
       "[3, 9, 3, 9, 7, 9]"
      ]
     },
     "execution_count": 93,
     "metadata": {},
     "output_type": "execute_result"
    }
   ],
   "source": [
    "A"
   ]
  },
  {
   "cell_type": "code",
   "execution_count": 94,
   "id": "5915e71a",
   "metadata": {},
   "outputs": [
    {
     "ename": "ValueError",
     "evalue": "list.remove(x): x not in list",
     "output_type": "error",
     "traceback": [
      "\u001b[0;31m---------------------------------------------------------------------------\u001b[0m",
      "\u001b[0;31mValueError\u001b[0m                                Traceback (most recent call last)",
      "Cell \u001b[0;32mIn[94], line 1\u001b[0m\n\u001b[0;32m----> 1\u001b[0m A\u001b[38;5;241m.\u001b[39mremove(\u001b[38;5;241m4\u001b[39m)\n",
      "\u001b[0;31mValueError\u001b[0m: list.remove(x): x not in list"
     ]
    }
   ],
   "source": [
    "A."
   ]
  },
  {
   "cell_type": "code",
   "execution_count": null,
   "id": "f3f03a8c",
   "metadata": {},
   "outputs": [],
   "source": []
  }
 ],
 "metadata": {
  "kernelspec": {
   "display_name": "Python 3 (ipykernel)",
   "language": "python",
   "name": "python3"
  },
  "language_info": {
   "codemirror_mode": {
    "name": "ipython",
    "version": 3
   },
   "file_extension": ".py",
   "mimetype": "text/x-python",
   "name": "python",
   "nbconvert_exporter": "python",
   "pygments_lexer": "ipython3",
   "version": "3.11.5"
  }
 },
 "nbformat": 4,
 "nbformat_minor": 5
}
