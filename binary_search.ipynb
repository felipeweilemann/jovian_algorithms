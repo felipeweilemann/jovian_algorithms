{
 "cells": [
  {
   "cell_type": "markdown",
   "id": "9f832e43",
   "metadata": {},
   "source": [
    "[Jovian course - Lesson 1](https://jovian.com/learn/data-structures-and-algorithms-in-python/lesson/lesson-1-binary-search-linked-lists-and-complexity)"
   ]
  },
  {
   "cell_type": "markdown",
   "id": "d0109260",
   "metadata": {},
   "source": [
    "# Locate card "
   ]
  },
  {
   "cell_type": "markdown",
   "id": "b4567815",
   "metadata": {},
   "source": [
    "Locate card in a list of cards ordered in descend order. Binary search."
   ]
  },
  {
   "cell_type": "code",
   "execution_count": 6,
   "id": "d55bc02b",
   "metadata": {},
   "outputs": [],
   "source": [
    "import math"
   ]
  },
  {
   "cell_type": "code",
   "execution_count": 78,
   "id": "ba48d9db",
   "metadata": {},
   "outputs": [],
   "source": [
    "def linear_search_locate_card(list_of_cards, card):\n",
    "\n",
    "    len_list = len(list_of_cards) \n",
    "    \n",
    "    position = 0\n",
    "    \n",
    "    while(position < len(list_of_cards)):\n",
    "\n",
    "        if len_list == 0 or position >= len_list:\n",
    "            return -1\n",
    "\n",
    "        if(list_of_cards[position] == card):\n",
    "            return position\n",
    "        \n",
    "        position += 1"
   ]
  },
  {
   "cell_type": "code",
   "execution_count": 83,
   "id": "bba82d1e",
   "metadata": {},
   "outputs": [],
   "source": [
    "def locate_card(list_of_cards, card):\n",
    "    lenList = len(list_of_cards)\n",
    "#     print(myList)\n",
    "    mid = lenList//2\n",
    "#     print(mid)\n",
    "    solution = -1\n",
    "    if lenList == 0:\n",
    "        solution = -1\n",
    "    elif mid == 0:\n",
    "        if list_of_cards[mid] == card:\n",
    "            solution = mid\n",
    "    elif list_of_cards[mid] == card:\n",
    "        solution = mid\n",
    "    elif list_of_cards[mid] < card:\n",
    "        new_list = list_of_cards[:mid]\n",
    "        solution = findValue(new_list, card)\n",
    "    else:\n",
    "        new_list = list_of_cards[mid:]\n",
    "        solution = mid + findValue(new_list, card)\n",
    "#     print(solution)\n",
    "    return solution"
   ]
  },
  {
   "cell_type": "code",
   "execution_count": 84,
   "id": "bb17699b",
   "metadata": {},
   "outputs": [],
   "source": [
    "test_1 = {\n",
    "    'input': { \n",
    "        'list_of_cards': [13, 11, 10, 7, 4, 3, 1, 0], \n",
    "        'card': 4\n",
    "    },\n",
    "    'output': 4\n",
    "}"
   ]
  },
  {
   "cell_type": "code",
   "execution_count": 85,
   "id": "e8bfeb97",
   "metadata": {},
   "outputs": [
    {
     "data": {
      "text/plain": [
       "True"
      ]
     },
     "execution_count": 85,
     "metadata": {},
     "output_type": "execute_result"
    }
   ],
   "source": [
    "locate_card(**test_1['input']) == test_1['output']"
   ]
  },
  {
   "cell_type": "code",
   "execution_count": 86,
   "id": "1fb5a141",
   "metadata": {},
   "outputs": [
    {
     "data": {
      "text/plain": [
       "True"
      ]
     },
     "execution_count": 86,
     "metadata": {},
     "output_type": "execute_result"
    }
   ],
   "source": [
    "linear_search_locate_card(**test_1['input']) == test_1['output']"
   ]
  },
  {
   "cell_type": "code",
   "execution_count": 87,
   "id": "a8437b58",
   "metadata": {},
   "outputs": [],
   "source": [
    "test_2 = {\n",
    "    'input': { \n",
    "        'list_of_cards': [], \n",
    "        'card': 13\n",
    "    },\n",
    "    'output': -1\n",
    "}"
   ]
  },
  {
   "cell_type": "code",
   "execution_count": 88,
   "id": "0f5940c9",
   "metadata": {},
   "outputs": [
    {
     "data": {
      "text/plain": [
       "True"
      ]
     },
     "execution_count": 88,
     "metadata": {},
     "output_type": "execute_result"
    }
   ],
   "source": [
    "locate_card(**test_2['input']) == test_2['output']"
   ]
  },
  {
   "cell_type": "code",
   "execution_count": 89,
   "id": "0725c6cf",
   "metadata": {},
   "outputs": [
    {
     "data": {
      "text/plain": [
       "False"
      ]
     },
     "execution_count": 89,
     "metadata": {},
     "output_type": "execute_result"
    }
   ],
   "source": [
    "linear_search_locate_card(**test_2['input']) == test_2['output']"
   ]
  },
  {
   "cell_type": "code",
   "execution_count": 90,
   "id": "c7362e34",
   "metadata": {},
   "outputs": [],
   "source": [
    "test_3 = {\n",
    "    'input': { \n",
    "        'list_of_cards': [13, 11, 10, 7, 4, 3, 1, 0], \n",
    "        'card': 13\n",
    "    },\n",
    "    'output': 0\n",
    "}"
   ]
  },
  {
   "cell_type": "code",
   "execution_count": 91,
   "id": "66f91210",
   "metadata": {},
   "outputs": [
    {
     "data": {
      "text/plain": [
       "True"
      ]
     },
     "execution_count": 91,
     "metadata": {},
     "output_type": "execute_result"
    }
   ],
   "source": [
    "locate_card(**test_3['input']) == test_3['output']"
   ]
  },
  {
   "cell_type": "code",
   "execution_count": 92,
   "id": "17cd2fab",
   "metadata": {},
   "outputs": [
    {
     "data": {
      "text/plain": [
       "True"
      ]
     },
     "execution_count": 92,
     "metadata": {},
     "output_type": "execute_result"
    }
   ],
   "source": [
    "linear_search_locate_card(**test_3['input']) == test_3['output']"
   ]
  },
  {
   "cell_type": "code",
   "execution_count": 93,
   "id": "93947b9a",
   "metadata": {},
   "outputs": [],
   "source": [
    "test_4 = {\n",
    "    'input': { \n",
    "        'list_of_cards': [13, 11, 10, 7, 4, 3, 1, 0], \n",
    "        'card': 0\n",
    "    },\n",
    "    'output': 7\n",
    "}"
   ]
  },
  {
   "cell_type": "code",
   "execution_count": 94,
   "id": "32c4416d",
   "metadata": {},
   "outputs": [
    {
     "data": {
      "text/plain": [
       "True"
      ]
     },
     "execution_count": 94,
     "metadata": {},
     "output_type": "execute_result"
    }
   ],
   "source": [
    "locate_card(**test_4['input']) == test_4['output']"
   ]
  },
  {
   "cell_type": "code",
   "execution_count": 95,
   "id": "ef57aee6",
   "metadata": {},
   "outputs": [
    {
     "data": {
      "text/plain": [
       "True"
      ]
     },
     "execution_count": 95,
     "metadata": {},
     "output_type": "execute_result"
    }
   ],
   "source": [
    "linear_search_locate_card(**test_4['input']) == test_4['output']"
   ]
  },
  {
   "cell_type": "code",
   "execution_count": 99,
   "id": "39f5a64b",
   "metadata": {},
   "outputs": [],
   "source": [
    "test_5 = {\n",
    "    'input': { \n",
    "        'list_of_cards': [13, 11, 10, 7, 4, 3, 1, 0], \n",
    "        'card': 15\n",
    "    },\n",
    "    'output': -1\n",
    "}"
   ]
  },
  {
   "cell_type": "code",
   "execution_count": 97,
   "id": "70028bdd",
   "metadata": {},
   "outputs": [
    {
     "data": {
      "text/plain": [
       "True"
      ]
     },
     "execution_count": 97,
     "metadata": {},
     "output_type": "execute_result"
    }
   ],
   "source": [
    "locate_card(**test_5['input']) == test_5['output']"
   ]
  },
  {
   "cell_type": "code",
   "execution_count": 100,
   "id": "d6141397",
   "metadata": {},
   "outputs": [
    {
     "data": {
      "text/plain": [
       "False"
      ]
     },
     "execution_count": 100,
     "metadata": {},
     "output_type": "execute_result"
    }
   ],
   "source": [
    "linear_search_locate_card(**test_5['input']) == test_5['output']"
   ]
  },
  {
   "cell_type": "code",
   "execution_count": null,
   "id": "eab3c652",
   "metadata": {},
   "outputs": [],
   "source": []
  }
 ],
 "metadata": {
  "kernelspec": {
   "display_name": "Python 3 (ipykernel)",
   "language": "python",
   "name": "python3"
  },
  "language_info": {
   "codemirror_mode": {
    "name": "ipython",
    "version": 3
   },
   "file_extension": ".py",
   "mimetype": "text/x-python",
   "name": "python",
   "nbconvert_exporter": "python",
   "pygments_lexer": "ipython3",
   "version": "3.11.5"
  }
 },
 "nbformat": 4,
 "nbformat_minor": 5
}
