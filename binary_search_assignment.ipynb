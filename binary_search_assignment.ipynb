{
 "cells": [
  {
   "cell_type": "markdown",
   "id": "c4e2d229",
   "metadata": {},
   "source": [
    "# Jovian Course"
   ]
  },
  {
   "cell_type": "markdown",
   "id": "dda058a3",
   "metadata": {},
   "source": [
    "## Binary Search Assignment"
   ]
  },
  {
   "cell_type": "markdown",
   "id": "918955cf",
   "metadata": {},
   "source": [
    "(Assignment 1 - Binary Search Practice)[https://jovian.com/aakashns/python-binary-search-assignment]"
   ]
  },
  {
   "cell_type": "markdown",
   "id": "be5e6313",
   "metadata": {},
   "source": [
    "## Problem - Rotated Lists\n",
    "\n",
    "We'll solve the following problem step-by-step:\n",
    "\n",
    "> You are given list of numbers, obtained by rotating a sorted list an unknown number of times. Write a function to determine the minimum number of times the original sorted list was rotated to obtain the given list. Your function should have the worst-case complexity of `O(log N)`, where N is the length of the list. You can assume that all the numbers in the list are unique.\n",
    ">\n",
    "> Example: The list `[5, 6, 9, 0, 2, 3, 4]` was obtained by rotating the sorted list `[0, 2, 3, 4, 5, 6, 9]` 3 times.\n",
    ">\n",
    "> We define \"rotating a list\" as removing the last element of the list and adding it before the first element. E.g. rotating the list `[3, 2, 4, 1]` produces `[1, 3, 2, 4]`. \n",
    ">\n",
    ">\"Sorted list\" refers to a list where the elements are arranged in the increasing order  e.g. `[1, 3, 5, 7]`.\n",
    ">"
   ]
  },
  {
   "cell_type": "code",
   "execution_count": 1,
   "id": "6d380030",
   "metadata": {},
   "outputs": [],
   "source": [
    "import math"
   ]
  },
  {
   "cell_type": "code",
   "execution_count": 2,
   "id": "81f5b2d8",
   "metadata": {},
   "outputs": [],
   "source": [
    "from jovian.pythondsa import evaluate_test_case"
   ]
  },
  {
   "cell_type": "code",
   "execution_count": 3,
   "id": "5436e283",
   "metadata": {},
   "outputs": [],
   "source": [
    "from jovian.pythondsa import evaluate_test_cases"
   ]
  },
  {
   "cell_type": "code",
   "execution_count": 130,
   "id": "d96d39e5",
   "metadata": {},
   "outputs": [],
   "source": [
    "tests = [{\n",
    "    'input': { \n",
    "        'list_of_numbers': [5, 6, 9, 0, 2, 3, 4], \n",
    "    },\n",
    "    'output': 3\n",
    "}]"
   ]
  },
  {
   "cell_type": "code",
   "execution_count": 131,
   "id": "b6de0bdb",
   "metadata": {},
   "outputs": [],
   "source": [
    "tests.append ({\n",
    "    'input': { \n",
    "        'list_of_numbers': [9, 0, 2, 3, 4, 5, 6], \n",
    "    },\n",
    "    'output': 1\n",
    "})"
   ]
  },
  {
   "cell_type": "code",
   "execution_count": 132,
   "id": "bbfd2e6a",
   "metadata": {},
   "outputs": [],
   "source": [
    "tests.append ({\n",
    "    'input': { \n",
    "        'list_of_numbers': [5, 6, 6, 9, 9, 9, 0, 0, 2, 3, 3, 3, 3, 4, 4], \n",
    "    },\n",
    "    'output': 6\n",
    "})"
   ]
  },
  {
   "cell_type": "code",
   "execution_count": 133,
   "id": "52ec1a4a",
   "metadata": {},
   "outputs": [],
   "source": [
    "tests.append ({\n",
    "    'input': { \n",
    "        'list_of_numbers': [5], \n",
    "    },\n",
    "    'output': 0\n",
    "})"
   ]
  },
  {
   "cell_type": "code",
   "execution_count": 134,
   "id": "4dc473a3",
   "metadata": {},
   "outputs": [],
   "source": [
    "tests.append ({\n",
    "    'input': { \n",
    "        'list_of_numbers': [5,4], \n",
    "    },\n",
    "    'output': 1\n",
    "})"
   ]
  },
  {
   "cell_type": "code",
   "execution_count": 135,
   "id": "899b402a",
   "metadata": {},
   "outputs": [],
   "source": [
    "tests.append ({\n",
    "    'input': { \n",
    "        'list_of_numbers': [4,5], \n",
    "    },\n",
    "    'output': 0\n",
    "})"
   ]
  },
  {
   "cell_type": "code",
   "execution_count": 136,
   "id": "efe015dc",
   "metadata": {},
   "outputs": [],
   "source": [
    "def binary_search(lo, hi, condition):\n",
    "    \"\"\"condition is a function that returns 'found', 'left', or 'right'\"\"\"\n",
    "    while lo <= hi:\n",
    "        mid = (lo + hi) // 2\n",
    "        result = condition(mid)\n",
    "        if result == 'found':\n",
    "            return mid\n",
    "        elif result == 'left':\n",
    "            hi = mid - 1\n",
    "        elif result == 'right':\n",
    "            lo = mid + 1\n",
    "        else:\n",
    "            return -1\n",
    "    return -1"
   ]
  },
  {
   "cell_type": "code",
   "execution_count": 137,
   "id": "0b603631",
   "metadata": {},
   "outputs": [],
   "source": [
    "def rotate_list(list_of_numbers):\n",
    "    len_list = len(list_of_numbers)\n",
    "    if len_list == 0:\n",
    "        return -1\n",
    "    elif len_list == 1:\n",
    "        return 0\n",
    "    \n",
    "    lo = 0\n",
    "    hi = len_list - 1\n",
    "    \n",
    "    \n",
    "    def condition(mid):\n",
    "        current_number = list_of_numbers[mid]\n",
    "        print('current number: ', current_number)\n",
    "        print('mid: ', mid)\n",
    "        \n",
    "        if mid == 0 and current_number <= list_of_numbers[mid + 1]:\n",
    "            return 'found'\n",
    "        elif mid == 0 and current_number > list_of_numbers[mid + 1]:\n",
    "            return 'right'\n",
    "        \n",
    "        \n",
    "        elif mid - 1 >=0 and current_number < list_of_numbers[mid - 1]:\n",
    "            return 'found'\n",
    "        elif current_number < list_of_numbers[-1]:\n",
    "            return 'left'\n",
    "        elif current_number > list_of_numbers[-1]:\n",
    "            return 'right'        \n",
    "        else:\n",
    "            return -1\n",
    "    \n",
    "    index = binary_search(lo, hi, condition)\n",
    "    \n",
    "    print(index)\n",
    "    return index"
   ]
  },
  {
   "cell_type": "code",
   "execution_count": 138,
   "id": "7936ff2f",
   "metadata": {},
   "outputs": [
    {
     "name": "stdout",
     "output_type": "stream",
     "text": [
      "\n",
      "\u001b[1mTEST CASE #0\u001b[0m\n",
      "current number:  0\n",
      "mid:  3\n",
      "3\n",
      "\n",
      "Input:\n",
      "{'list_of_numbers': [5, 6, 9, 0, 2, 3, 4]}\n",
      "\n",
      "Expected Output:\n",
      "3\n",
      "\n",
      "\n",
      "Actual Output:\n",
      "3\n",
      "\n",
      "Execution Time:\n",
      "0.036 ms\n",
      "\n",
      "Test Result:\n",
      "\u001b[92mPASSED\u001b[0m\n",
      "\n",
      "\n",
      "\u001b[1mTEST CASE #1\u001b[0m\n",
      "current number:  3\n",
      "mid:  3\n",
      "current number:  0\n",
      "mid:  1\n",
      "1\n",
      "\n",
      "Input:\n",
      "{'list_of_numbers': [9, 0, 2, 3, 4, 5, 6]}\n",
      "\n",
      "Expected Output:\n",
      "1\n",
      "\n",
      "\n",
      "Actual Output:\n",
      "1\n",
      "\n",
      "Execution Time:\n",
      "0.046 ms\n",
      "\n",
      "Test Result:\n",
      "\u001b[92mPASSED\u001b[0m\n",
      "\n",
      "\n",
      "\u001b[1mTEST CASE #2\u001b[0m\n",
      "current number:  0\n",
      "mid:  7\n",
      "current number:  9\n",
      "mid:  3\n",
      "current number:  9\n",
      "mid:  5\n",
      "current number:  0\n",
      "mid:  6\n",
      "6\n",
      "\n",
      "Input:\n",
      "{'list_of_numbers': [5, 6, 6, 9, 9, 9, 0, 0, 2, 3, 3, 3, 3, 4, 4]}\n",
      "\n",
      "Expected Output:\n",
      "6\n",
      "\n",
      "\n",
      "Actual Output:\n",
      "6\n",
      "\n",
      "Execution Time:\n",
      "0.078 ms\n",
      "\n",
      "Test Result:\n",
      "\u001b[92mPASSED\u001b[0m\n",
      "\n",
      "\n",
      "\u001b[1mTEST CASE #3\u001b[0m\n",
      "\n",
      "Input:\n",
      "{'list_of_numbers': [5]}\n",
      "\n",
      "Expected Output:\n",
      "0\n",
      "\n",
      "\n",
      "Actual Output:\n",
      "0\n",
      "\n",
      "Execution Time:\n",
      "0.003 ms\n",
      "\n",
      "Test Result:\n",
      "\u001b[92mPASSED\u001b[0m\n",
      "\n",
      "\n",
      "\u001b[1mTEST CASE #4\u001b[0m\n",
      "current number:  5\n",
      "mid:  0\n",
      "current number:  4\n",
      "mid:  1\n",
      "1\n",
      "\n",
      "Input:\n",
      "{'list_of_numbers': [5, 4]}\n",
      "\n",
      "Expected Output:\n",
      "1\n",
      "\n",
      "\n",
      "Actual Output:\n",
      "1\n",
      "\n",
      "Execution Time:\n",
      "0.047 ms\n",
      "\n",
      "Test Result:\n",
      "\u001b[92mPASSED\u001b[0m\n",
      "\n",
      "\n",
      "\u001b[1mTEST CASE #5\u001b[0m\n",
      "current number:  4\n",
      "mid:  0\n",
      "0\n",
      "\n",
      "Input:\n",
      "{'list_of_numbers': [4, 5]}\n",
      "\n",
      "Expected Output:\n",
      "0\n",
      "\n",
      "\n",
      "Actual Output:\n",
      "0\n",
      "\n",
      "Execution Time:\n",
      "0.024 ms\n",
      "\n",
      "Test Result:\n",
      "\u001b[92mPASSED\u001b[0m\n",
      "\n",
      "\n",
      "\u001b[1mSUMMARY\u001b[0m\n",
      "\n",
      "TOTAL: 6, \u001b[92mPASSED\u001b[0m: 6, \u001b[91mFAILED\u001b[0m: 0\n"
     ]
    },
    {
     "data": {
      "text/plain": [
       "[(3, True, 0.036),\n",
       " (1, True, 0.046),\n",
       " (6, True, 0.078),\n",
       " (0, True, 0.003),\n",
       " (1, True, 0.047),\n",
       " (0, True, 0.024)]"
      ]
     },
     "execution_count": 138,
     "metadata": {},
     "output_type": "execute_result"
    }
   ],
   "source": [
    "evaluate_test_cases(rotate_list, tests)"
   ]
  },
  {
   "cell_type": "code",
   "execution_count": 141,
   "id": "185c8ddb",
   "metadata": {},
   "outputs": [],
   "source": [
    "A = 2"
   ]
  },
  {
   "cell_type": "code",
   "execution_count": 142,
   "id": "a68fe39d",
   "metadata": {},
   "outputs": [
    {
     "data": {
      "text/plain": [
       "4"
      ]
     },
     "execution_count": 142,
     "metadata": {},
     "output_type": "execute_result"
    }
   ],
   "source": [
    "A*2"
   ]
  },
  {
   "cell_type": "code",
   "execution_count": null,
   "id": "b8ea1d04",
   "metadata": {},
   "outputs": [],
   "source": []
  }
 ],
 "metadata": {
  "kernelspec": {
   "display_name": "Python 3 (ipykernel)",
   "language": "python",
   "name": "python3"
  },
  "language_info": {
   "codemirror_mode": {
    "name": "ipython",
    "version": 3
   },
   "file_extension": ".py",
   "mimetype": "text/x-python",
   "name": "python",
   "nbconvert_exporter": "python",
   "pygments_lexer": "ipython3",
   "version": "3.11.5"
  }
 },
 "nbformat": 4,
 "nbformat_minor": 5
}
